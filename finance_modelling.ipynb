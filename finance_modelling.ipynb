{
 "cells": [
  {
   "cell_type": "code",
   "execution_count": 1,
   "metadata": {},
   "outputs": [
    {
     "name": "stdout",
     "output_type": "stream",
     "text": [
      "\n",
      "ISLAMIC BANK SIMULATION\n",
      "Bank Capital: 50,000.00 | Bank Loan (@25.00%): 62,500.00\n",
      "\n",
      "---------END OF SIMULATION----------\n",
      "Status: SUCCESS\n",
      "Total period of payment t = 10 months | Within grace period\n",
      "\n",
      "Loan Remaining: 0.00 | Loan Paid: 62,500.00\n",
      "Profit made (@25.00%): 405,513.45 | Final bank payment (@12.00%): 24,629.82 | Net profit: 378,883.62\n",
      "Amount Reinvested: 3,620,991.20\n",
      "\n",
      "\n",
      "CONVENTIONAL BANK SIMULATION\n",
      "Bank Capital: 50,000.00 | Bank Loan (@1.20%): 50,600.00\n",
      "\n",
      "---------END OF SIMULATION----------\n",
      "Status: FAIL | Business is a LOSS MODEL\n",
      "Total period of payment t = 10 months | Within grace period\n",
      "\n",
      "Loan Remaining: 4,216.67 | Loan Paid: 46,383.33\n",
      "Profit made (@25.00%): -2,470,530.84 | Final bank payment (@1.20%): 4,216.67 | Net profit: -2,476,747.50\n",
      "Amount Reinvested: -22,242,994.19\n",
      "\n"
     ]
    },
    {
     "data": {
      "text/plain": [
       "(2, 10, -2476747.5, -22242994.19, 4216.67)"
      ]
     },
     "execution_count": 1,
     "metadata": {},
     "output_type": "execute_result"
    }
   ],
   "source": [
    "from models.islamic_bank import IslamicModel\n",
    "from models.conventional_bank import ConventionalModel\n",
    "\n",
    "# setting parameter values for consistency\n",
    "INITIAL_CAPITAL: int = 50_000\n",
    "CURRENT_CAPITAL: int = 0\n",
    "PROFIT_MARGIN: float = 0.25\n",
    "EXPENSES: float = 2000.0\n",
    "BANK_FEE: float = 0.25\n",
    "BANK_SHARE: float = 0.12\n",
    "INTEREST_RATE: float = 0.012\n",
    "LOAN_PERIOD: int = 1\n",
    "INITIAL_CAPITAL_REINVESTMENT: float = 2_000\n",
    "\n",
    "# simulation time in months\n",
    "SIMULATION_TIME: int = 50\n",
    "GRACE_PERIOD: int = 10\n",
    "\n",
    "# creating model objects\n",
    "model_islamic = IslamicModel(\n",
    "    initial_capital=INITIAL_CAPITAL,\n",
    "    current_capital=CURRENT_CAPITAL,\n",
    "    profit_margin=PROFIT_MARGIN,\n",
    "    expenses=EXPENSES,\n",
    "    bank_fee=BANK_FEE,\n",
    "    bank_share=BANK_SHARE,\n",
    "    initial_capital_reinvestment=INITIAL_CAPITAL_REINVESTMENT\n",
    ")\n",
    "\n",
    "model_conventional = ConventionalModel(\n",
    "    initial_capital=INITIAL_CAPITAL,\n",
    "    current_capital=CURRENT_CAPITAL,\n",
    "    profit_margin=PROFIT_MARGIN,\n",
    "    expenses=EXPENSES,\n",
    "    interest_rate=INTEREST_RATE,\n",
    "    loan_period=LOAN_PERIOD,\n",
    "    initial_capital_reinvestment=INITIAL_CAPITAL_REINVESTMENT\n",
    ")\n",
    "\n",
    "# simulating the models\n",
    "model_islamic.simulate(time_period=SIMULATION_TIME, grace_period=GRACE_PERIOD)\n",
    "model_conventional.simulate(time_period=SIMULATION_TIME, grace_period=GRACE_PERIOD)"
   ]
  },
  {
   "cell_type": "code",
   "execution_count": null,
   "metadata": {},
   "outputs": [],
   "source": []
  }
 ],
 "metadata": {
  "kernelspec": {
   "display_name": "venv",
   "language": "python",
   "name": "python3"
  },
  "language_info": {
   "codemirror_mode": {
    "name": "ipython",
    "version": 3
   },
   "file_extension": ".py",
   "mimetype": "text/x-python",
   "name": "python",
   "nbconvert_exporter": "python",
   "pygments_lexer": "ipython3",
   "version": "3.11.6"
  }
 },
 "nbformat": 4,
 "nbformat_minor": 2
}
