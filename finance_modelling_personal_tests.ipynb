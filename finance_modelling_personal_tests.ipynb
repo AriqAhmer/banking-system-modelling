{
 "cells": [
  {
   "cell_type": "code",
   "execution_count": 3,
   "metadata": {},
   "outputs": [
    {
     "name": "stdout",
     "output_type": "stream",
     "text": [
      "\n",
      "ISLAMIC BANK SIMULATION\n",
      "Bank Capital: 50,000.00 | Bank Loan (@25.00%): 62,500.00\n",
      "\n",
      "---------END OF SIMULATION----------\n",
      "Status: SUCCESS\n",
      "Total period of payment t = 10 months | Within grace period\n",
      "\n",
      "Loan Remaining: 0.00 | Loan Paid: 62,500.00\n",
      "Profit made (@25.00%): 405,513.45 | Final bank payment (@12.00%): 24,629.82 | Net profit: 378,883.62\n",
      "Amount Reinvested: 3,620,991.20\n",
      "\n",
      "\n",
      "CONVENTIONAL BANK SIMULATION\n",
      "Bank Capital: 50,000.00 | Bank Loan (@1.20%): 50,600.00\n",
      "\n",
      "---------END OF SIMULATION----------\n",
      "Status: FAIL | Business is a LOSS MODEL\n",
      "Total period of payment t = 10 months | Within grace period\n",
      "\n",
      "Loan Remaining: 4,216.67 | Loan Paid: 46,383.33\n",
      "Profit made (@25.00%): -2,470,530.84 | Final bank payment (@1.20%): 4,216.67 | Net profit: -2,476,747.50\n",
      "Amount Reinvested: -22,242,994.19\n",
      "\n"
     ]
    },
    {
     "data": {
      "text/plain": [
       "(2, 10, -2476747.5, -22242994.19, 4216.67)"
      ]
     },
     "execution_count": 3,
     "metadata": {},
     "output_type": "execute_result"
    }
   ],
   "source": [
    "from models.islamic_bank import IslamicModel\n",
    "from models.conventional_bank import ConventionalModel\n",
    "\n",
    "# setting parameter values for consistency\n",
    "INITIAL_CAPITAL: int = 50_000\n",
    "CURRENT_CAPITAL: int = 0\n",
    "PROFIT_MARGIN: float = 0.25\n",
    "EXPENSES: float = 2000.0\n",
    "BANK_FEE: float = 0.25\n",
    "BANK_SHARE: float = 0.12\n",
    "INTEREST_RATE: float = 0.012\n",
    "LOAN_PERIOD: int = 1\n",
    "INITIAL_CAPITAL_REINVESTMENT: float = 2_000.0\n",
    "\n",
    "# simulation time in months\n",
    "SIMULATION_TIME: int = 50\n",
    "GRACE_PERIOD: int = 10\n",
    "\n",
    "# creating model objects\n",
    "model_islamic = IslamicModel(\n",
    "    initial_capital=INITIAL_CAPITAL,\n",
    "    current_capital=CURRENT_CAPITAL,\n",
    "    profit_margin=PROFIT_MARGIN,\n",
    "    expenses=EXPENSES,\n",
    "    bank_fee=BANK_FEE,\n",
    "    bank_share=BANK_SHARE,\n",
    "    initial_capital_reinvestment=INITIAL_CAPITAL_REINVESTMENT\n",
    ")\n",
    "\n",
    "model_conventional = ConventionalModel(\n",
    "    initial_capital=INITIAL_CAPITAL,\n",
    "    current_capital=CURRENT_CAPITAL,\n",
    "    profit_margin=PROFIT_MARGIN,\n",
    "    expenses=EXPENSES,\n",
    "    interest_rate=INTEREST_RATE,\n",
    "    loan_period=LOAN_PERIOD,\n",
    "    initial_capital_reinvestment=INITIAL_CAPITAL_REINVESTMENT\n",
    ")\n",
    "\n",
    "# simulating the models\n",
    "model_islamic.simulate(time_period=SIMULATION_TIME, grace_period=GRACE_PERIOD)\n",
    "model_conventional.simulate(time_period=SIMULATION_TIME, grace_period=GRACE_PERIOD)\n",
    "\n",
    "# _ = model_islamic.simulation_graphs()\n",
    "# _ = model_conventional.simulation_graphs()"
   ]
  },
  {
   "cell_type": "markdown",
   "metadata": {},
   "source": [
    "## Function Implementation Usability\n",
    "I'm checking if the feature for passing functions work. Currently I only managed to implement for:\n",
    "- `expenses`\n",
    "- `initial_capital_reinvestment`\n",
    "- `profit_margin`"
   ]
  },
  {
   "cell_type": "code",
   "execution_count": 4,
   "metadata": {},
   "outputs": [
    {
     "name": "stdout",
     "output_type": "stream",
     "text": [
      "<class 'function'>\n",
      "\n",
      "ISLAMIC BANK SIMULATION\n",
      "Bank Capital: 50,000.00 | Bank Loan (@25.00%): 62,500.00\n",
      "\n",
      "---------END OF SIMULATION----------\n",
      "Status: SUCCESS\n",
      "Total period of payment t = 9 months | Within grace period\n",
      "\n",
      "Loan Remaining: 0.00 | Loan Paid: 62,500.00\n",
      "Profit made (@27.35%): 602,981.19 | Final bank payment (@12.00%): 4,573.99 | Net profit: 597,902.70\n",
      "Amount Reinvested: 4,949,857.97\n",
      "\n",
      "\n",
      "CONVENTIONAL BANK SIMULATION\n",
      "Bank Capital: 50,000.00 | Bank Loan (@1.20%): 50,600.00\n",
      "\n",
      "---------END OF SIMULATION----------\n",
      "Status: FAIL | Business is a LOSS MODEL\n",
      "Total period of payment t = 10 months | Within grace period\n",
      "\n",
      "Loan Remaining: 4,216.67 | Loan Paid: 46,383.33\n",
      "Profit made (@27.63%): -1,429,640.33 | Final bank payment (@1.20%): 4,216.67 | Net profit: -1,434,362.00\n",
      "Amount Reinvested: -11,655,701.97\n",
      "\n"
     ]
    }
   ],
   "source": [
    "# import matplotlib.pyplot as plt\n",
    "import math\n",
    "\n",
    "ExpenseFunc = lambda t : 0.5*t + 500\n",
    "InvestmentFunc = lambda t : 100*t + 2000\n",
    "ProfitFunc = lambda t : 0.25 * math.exp(0.01 * t)\n",
    "DividendFunc = lambda t : 0.1 * t/(t+1)\n",
    "\n",
    "print(type(ExpenseFunc))\n",
    "\n",
    "model_islamic_2 = IslamicModel(\n",
    "    INITIAL_CAPITAL,\n",
    "    CURRENT_CAPITAL,\n",
    "    ProfitFunc,\n",
    "    ExpenseFunc,\n",
    "    BANK_FEE,\n",
    "    BANK_SHARE,\n",
    "    InvestmentFunc,\n",
    "    DividendFunc\n",
    ")\n",
    "\n",
    "model_conventional_2 = ConventionalModel(\n",
    "    INITIAL_CAPITAL,\n",
    "    CURRENT_CAPITAL,\n",
    "    ProfitFunc,\n",
    "    ExpenseFunc,\n",
    "    INTEREST_RATE,\n",
    "    LOAN_PERIOD,\n",
    "    InvestmentFunc,\n",
    "    DividendFunc\n",
    ")\n",
    "\n",
    "_ = model_islamic_2.simulate(SIMULATION_TIME, GRACE_PERIOD)\n",
    "_ = model_conventional_2.simulate(SIMULATION_TIME, GRACE_PERIOD)"
   ]
  }
 ],
 "metadata": {
  "kernelspec": {
   "display_name": "venv",
   "language": "python",
   "name": "python3"
  },
  "language_info": {
   "codemirror_mode": {
    "name": "ipython",
    "version": 3
   },
   "file_extension": ".py",
   "mimetype": "text/x-python",
   "name": "python",
   "nbconvert_exporter": "python",
   "pygments_lexer": "ipython3",
   "version": "3.11.6"
  }
 },
 "nbformat": 4,
 "nbformat_minor": 2
}
